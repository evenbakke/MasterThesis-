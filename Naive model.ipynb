{
 "cells": [
  {
   "cell_type": "code",
   "execution_count": null,
   "metadata": {},
   "outputs": [],
   "source": [
    "import numpy as np\n",
    "import pandas as pd\n",
    "import datetime  \n",
    "import matplotlib.pyplot as plt\n",
    "import seaborn as sns"
   ]
  },
  {
   "cell_type": "code",
   "execution_count": null,
   "metadata": {},
   "outputs": [],
   "source": [
    "df = pd.read_excel('/Users/evenbakke/Documents/Master Thesis/MasterThesis-/Data 2.0/Final Data with 2024.xlsx')\n",
    "df.set_index(\"DateTime\", inplace=True)\n",
    "df.sort_index(ascending=True)"
   ]
  },
  {
   "cell_type": "code",
   "execution_count": null,
   "metadata": {},
   "outputs": [],
   "source": [
    "df = df.loc['2023':'2024']\n",
    "df"
   ]
  },
  {
   "cell_type": "code",
   "execution_count": null,
   "metadata": {},
   "outputs": [],
   "source": [
    "import pandas as pd\n",
    "from sklearn.metrics import mean_absolute_error, mean_squared_error\n",
    "import numpy as np\n",
    "\n",
    "\n",
    "df_naive = df.copy()\n",
    "\n",
    "\n",
    "df_naive['Daily_Seasonal_Naive'] = df_naive['System Price'].shift(24)\n",
    "df_naive['Weekly_Seasonal_Naive'] = df_naive['System Price'].shift(168)\n",
    "\n",
    "\n",
    "df_naive.dropna(subset=['Daily_Seasonal_Naive', 'Weekly_Seasonal_Naive'], inplace=True)\n",
    "\n",
    "\n",
    "mae_daily = mean_absolute_error(df_naive['System Price'], df_naive['Daily_Seasonal_Naive'])\n",
    "mse_daily = mean_squared_error(df_naive['System Price'], df_naive['Daily_Seasonal_Naive'])\n",
    "rmse_daily = np.sqrt(mse_daily)\n",
    "\n",
    "print(f'Daily Seasonal Naive Method - MAE: {mae_daily:.6f}, MSE: {mse_daily:.6f}, RMSE: {rmse_daily:.6f}')\n",
    "\n",
    "\n",
    "mae_weekly = mean_absolute_error(df_naive['System Price'], df_naive['Weekly_Seasonal_Naive'])\n",
    "mse_weekly = mean_squared_error(df_naive['System Price'], df_naive['Weekly_Seasonal_Naive'])\n",
    "rmse_weekly = np.sqrt(mse_weekly)\n",
    "\n",
    "print(f'Weekly Seasonal Naive Method - MAE: {mae_weekly:.6f}, MSE: {mse_weekly:.6f}, RMSE: {rmse_weekly:.6f}')\n",
    "\n",
    "\n",
    "start_date = '2024-01-01'\n",
    "df_filtered = df_naive[df_naive.index >= start_date]\n",
    "\n",
    "df_naive_predictions = df_filtered[['Daily_Seasonal_Naive', 'Weekly_Seasonal_Naive']].copy()\n",
    "df_naive_predictions.reset_index(inplace=True)\n",
    "df_naive_predictions.rename(columns={'index': 'DateTime'}, inplace=True)\n"
   ]
  },
  {
   "cell_type": "code",
   "execution_count": null,
   "metadata": {},
   "outputs": [],
   "source": [
    "df_naive_predictions"
   ]
  },
  {
   "cell_type": "code",
   "execution_count": null,
   "metadata": {},
   "outputs": [],
   "source": [
    "\n",
    "excel_file_path = '/Users/evenbakke/Documents/Master Thesis/Predictions all models /Naive predictions.xlsx'\n",
    "\n",
    "df_naive_predictions.to_excel(excel_file_path, index=True)\n",
    "\n",
    "print(f'DataFrame successfully saved to {excel_file_path}')"
   ]
  },
  {
   "cell_type": "markdown",
   "metadata": {},
   "source": [
    "### Plot to display different activation functions to show in thesis "
   ]
  },
  {
   "cell_type": "code",
   "execution_count": null,
   "metadata": {},
   "outputs": [],
   "source": [
    "import numpy as np\n",
    "import matplotlib.pyplot as plt\n",
    "\n",
    "\n",
    "def linear(x):\n",
    "    return x\n",
    "\n",
    "def sigmoid(x):\n",
    "    return 1 / (1 + np.exp(-x))\n",
    "\n",
    "def tanh(x):\n",
    "    return np.tanh(x)\n",
    "\n",
    "def relu(x):\n",
    "    return np.maximum(0, x)\n",
    "\n",
    "\n",
    "x = np.linspace(-10, 10, 400)\n",
    "\n",
    "\n",
    "y_linear = linear(x)\n",
    "y_sigmoid = sigmoid(x)\n",
    "y_tanh = tanh(x)\n",
    "y_relu = relu(x)\n",
    "\n",
    "# Create subplots\n",
    "plt.figure(figsize=(12, 8))\n",
    "\n",
    "plt.subplot(2, 2, 1)\n",
    "plt.plot(x, y_linear, label='Linear', color='blue')\n",
    "plt.axhline(0, color='gray', linestyle='--')  # Add horizontal line at y=0\n",
    "plt.axvline(0, color='gray', linestyle='--')  # Add vertical line at x=0\n",
    "plt.title('Linear Activation Function')\n",
    "plt.grid(True)\n",
    "\n",
    "plt.subplot(2, 2, 2)\n",
    "plt.plot(x, y_sigmoid, label='Sigmoid', color='red')\n",
    "plt.axhline(0, color='gray', linestyle='--')  # Add horizontal line at y=0\n",
    "plt.axvline(0, color='gray', linestyle='--')  # Add vertical line at x=0\n",
    "plt.title('Sigmoid Activation Function')\n",
    "plt.grid(True)\n",
    "\n",
    "plt.subplot(2, 2, 3)\n",
    "plt.plot(x, y_tanh, label='Tanh', color='green')\n",
    "plt.axhline(0, color='gray', linestyle='--')  # Add horizontal line at y=0\n",
    "plt.axvline(0, color='gray', linestyle='--')  # Add vertical line at x=0\n",
    "plt.title('Tanh Activation Function')\n",
    "plt.grid(True)\n",
    "\n",
    "plt.subplot(2, 2, 4)\n",
    "plt.plot(x, y_relu, label='ReLU', color='purple')\n",
    "plt.axhline(0, color='gray', linestyle='--')  # Add horizontal line at y=0\n",
    "plt.axvline(0, color='gray', linestyle='--')  # Add vertical line at x=0\n",
    "plt.title('ReLU Activation Function')\n",
    "plt.grid(True)\n",
    "\n",
    "# Adjust layout\n",
    "plt.tight_layout()\n",
    "\n",
    "# Show the plots\n",
    "plt.show()"
   ]
  }
 ],
 "metadata": {
  "kernelspec": {
   "display_name": "base",
   "language": "python",
   "name": "python3"
  },
  "language_info": {
   "codemirror_mode": {
    "name": "ipython",
    "version": 3
   },
   "file_extension": ".py",
   "mimetype": "text/x-python",
   "name": "python",
   "nbconvert_exporter": "python",
   "pygments_lexer": "ipython3",
   "version": "3.9.12"
  }
 },
 "nbformat": 4,
 "nbformat_minor": 2
}
