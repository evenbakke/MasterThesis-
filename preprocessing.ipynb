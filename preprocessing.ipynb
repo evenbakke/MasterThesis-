{
 "cells": [
  {
   "cell_type": "code",
   "execution_count": null,
   "metadata": {},
   "outputs": [],
   "source": [
    "import pandas as pd \n",
    "import numpy as np\n",
    "import matplotlib.pyplot as plt\n",
    "from statsmodels.tsa.stattools import adfuller\n",
    "from statsmodels.graphics.tsaplots import plot_acf, plot_pacf"
   ]
  },
  {
   "cell_type": "code",
   "execution_count": null,
   "metadata": {},
   "outputs": [],
   "source": [
    "df = pd.read_excel('/Users/evenbakke/Documents/Master Thesis/MasterThesis-/Data REAL/Complete Data w 2024.xlsx')\n",
    "df.set_index(\"DateTime\", inplace=True)\n",
    "df.sort_index(ascending=True)\n",
    "df"
   ]
  },
  {
   "cell_type": "code",
   "execution_count": null,
   "metadata": {},
   "outputs": [],
   "source": [
    "import pandas as pd\n",
    "\n",
    "df = df.drop(columns=['TempNo1', 'TempNo2', 'TempNo3', 'TempNo4', 'TempNo5', \n",
    "                              'precipNo1', 'precipNo2', 'precipNo3', 'precipNo4', 'precipNo5'])\n",
    "\n",
    "df"
   ]
  },
  {
   "cell_type": "code",
   "execution_count": null,
   "metadata": {},
   "outputs": [],
   "source": [
    "df.isna().sum()"
   ]
  },
  {
   "cell_type": "code",
   "execution_count": null,
   "metadata": {},
   "outputs": [],
   "source": [
    "import pandas as pd\n",
    "\n",
    "# Assuming 'df' is your DataFrame\n",
    "df['Total_Volume'] = df['Total_Volume'].interpolate(method='linear')\n"
   ]
  },
  {
   "cell_type": "code",
   "execution_count": null,
   "metadata": {},
   "outputs": [],
   "source": [
    "df.isna().sum()"
   ]
  },
  {
   "cell_type": "markdown",
   "metadata": {},
   "source": [
    "# Feature engineering "
   ]
  },
  {
   "cell_type": "markdown",
   "metadata": {},
   "source": [
    "### Calendar features (public holidays, extended vacations like christmas, weekend/weekday)"
   ]
  },
  {
   "cell_type": "code",
   "execution_count": null,
   "metadata": {},
   "outputs": [],
   "source": [
    "# Create a weekend dummy (1 for Saturday and Sunday, 0 otherwise)\n",
    "df['Weekend'] = (df.index.dayofweek >= 5).astype(int)"
   ]
  },
  {
   "cell_type": "code",
   "execution_count": null,
   "metadata": {},
   "outputs": [],
   "source": [
    "# Create the Christmas vacation dummy variable\n",
    "df['Christmas vacation'] = 0  \n",
    "\n",
    "# Loop through each year in your dataset\n",
    "for year in df.index.year.unique():\n",
    "    start_date = pd.Timestamp(year=year, month=12, day=24)\n",
    "    end_date = pd.Timestamp(year=year, month=1, day=1, hour=23, minute=59, second=59) + pd.offsets.YearEnd(0)\n",
    "    \n",
    "    # Set the dummy variable to 1 for the duration of the Christmas vacation\n",
    "    df.loc[start_date:end_date, 'Christmas vacation'] = 1"
   ]
  },
  {
   "cell_type": "code",
   "execution_count": null,
   "metadata": {},
   "outputs": [],
   "source": [
    "# Create dummy for public holiday \n",
    "from datetime import date\n",
    "import holidays\n",
    "\n",
    "# Combine the holidays for Norway, Sweden, Denmark, and Finland\n",
    "holiday_list = []\n",
    "years = range(2018, 2025)  \n",
    "\n",
    "for year in years:\n",
    "    for country in ['NO', 'SE', 'DK', 'FI']:\n",
    "        for date, name in sorted(holidays.CountryHoliday(country, years=[year]).items()):\n",
    "            holiday_list.append(date)\n",
    "\n",
    "# Remove duplicates if a holiday is shared between countries\n",
    "holiday_list = list(set(holiday_list))\n",
    "\n",
    "# Initialize the public holiday dummy column\n",
    "df['Public holiday'] = 0\n",
    "\n",
    "# Mark the public holidays in the dummy column\n",
    "df.loc[df.index.normalize().isin(holiday_list), 'Public holiday'] = 1"
   ]
  },
  {
   "cell_type": "code",
   "execution_count": null,
   "metadata": {},
   "outputs": [],
   "source": [
    "import pandas as pd\n",
    "\n",
    "\n",
    "def is_winter_time(date):\n",
    "    # Define the winter start and end dates\n",
    "    year = date.year\n",
    "    start_winter_this_year = pd.Timestamp(year=year, month=10, day=29)\n",
    "    end_winter_this_year = pd.Timestamp(year=year+1, month=3, day=26)\n",
    "\n",
    "    # Adjust for dates across the new year\n",
    "    if date.month < 4:\n",
    "        start_winter_this_year = pd.Timestamp(year=year-1, month=10, day=29)\n",
    "    \n",
    "    # Check if the date is within the winter period\n",
    "    return int(start_winter_this_year <= date <= end_winter_this_year)\n",
    "\n",
    "# Apply the function to the DataFrame's index\n",
    "df['Winter Time'] = df.index.map(is_winter_time)\n",
    "\n"
   ]
  },
  {
   "cell_type": "markdown",
   "metadata": {},
   "source": [
    "### Summing production/consumption and taking avg of temp and prec\n"
   ]
  },
  {
   "cell_type": "code",
   "execution_count": null,
   "metadata": {},
   "outputs": [],
   "source": [
    "# Calculate the average temperature across the five areas\n",
    "df['Temp NO'] = df[['TempNo1', 'TempNo2', 'TempNo3', 'TempNo4', 'TempNo5']].mean(axis=1)\n",
    "\n",
    "# Calculate the average precipitation across the five areas\n",
    "df['Precip NO'] = df[['precipNo1', 'precipNo2', 'precipNo3', 'precipNo4', 'precipNo5']].mean(axis=1)\n",
    "\n",
    "df.drop(['TempNo1', 'TempNo2', 'TempNo3', 'TempNo4', 'TempNo5',\n",
    "         'precipNo1', 'precipNo2', 'precipNo3', 'precipNo4', 'precipNo5'], axis=1, inplace=True)\n"
   ]
  },
  {
   "cell_type": "code",
   "execution_count": null,
   "metadata": {},
   "outputs": [],
   "source": [
    "\n",
    "# Summing the columns for Total Consumption\n",
    "df['Total Consumption'] = df[['Total Consumption NO', 'Total Consumption SE', \n",
    "                              'Total Consumption DK', 'Total Consumption FI']].sum(axis=1)\n",
    "\n",
    "# Summing the columns for Total Production\n",
    "df['Total Production'] = df[['Total Production NO', 'Total Production SE', \n",
    "                             'Total Production DK', 'Total Production FI']].sum(axis=1)\n",
    "\n",
    "\n",
    "df.drop(['Total Consumption NO', 'Total Consumption SE', 'Total Consumption DK', 'Total Consumption FI',\n",
    "         'Total Production NO', 'Total Production SE', 'Total Production DK', 'Total Production FI'], axis=1, inplace=True)\n"
   ]
  },
  {
   "cell_type": "code",
   "execution_count": null,
   "metadata": {},
   "outputs": [],
   "source": [
    "\n",
    "df.drop([\n",
    "    'Day-ahead Consumption Prognosis NO',\n",
    "    'Day-ahead Production Prognosis NO',\n",
    "    'Day-ahead Consumption Prognosis SE',\n",
    "    'Day-ahead Production Prognosis SE',\n",
    "    'Day-ahead Consumption Prognosis DK',\n",
    "    'Day-ahead Production Prognosis DK',\n",
    "    'Day-ahead Consumption Prognosis FI',\n",
    "    'Day-ahead Production Prognosis FI'\n",
    "], axis=1, inplace=True)\n"
   ]
  },
  {
   "cell_type": "markdown",
   "metadata": {},
   "source": [
    "# Determine optimal lagged features"
   ]
  },
  {
   "cell_type": "code",
   "execution_count": null,
   "metadata": {},
   "outputs": [],
   "source": [
    "import matplotlib.pyplot as plt\n",
    "from statsmodels.graphics.tsaplots import plot_acf\n",
    "\n",
    "\n",
    "# Adjusting the plot size, font size, and line width for better readability\n",
    "plt.rcParams['figure.figsize'] = (16, 8)  # Adjusts the figure size\n",
    "plt.rcParams['font.size'] = 12  # Adjusts the font size\n",
    "plt.rcParams['lines.linewidth'] = 2  # Adjusts the line width\n",
    "\n",
    "# First Plot with 50 Lags\n",
    "plt.figure()  # Creates a new figure\n",
    "plot_acf(df['System Price'], lags=50, alpha=0.05)\n",
    "plt.title('Autocorrelation Function (ACF) for System Price - 50 Lags', fontsize=14)\n",
    "plt.xlabel('Lags', fontsize=12)\n",
    "plt.ylabel('Autocorrelation', fontsize=12)\n",
    "plt.grid(True)  # Adds a grid for easier reference\n",
    "plt.show()\n",
    "\n",
    "# Second Plot with 168 Lags\n",
    "plt.figure()  # Creates a new figure for the second plot\n",
    "plot_acf(df['System Price'], lags=170, alpha=0.05)\n",
    "plt.title('Autocorrelation Function (ACF) for System Price - 170 Lags', fontsize=14)\n",
    "plt.xlabel('Lags', fontsize=12)\n",
    "plt.ylabel('Autocorrelation', fontsize=12)\n",
    "plt.grid(True)  # Adds a grid for easier reference\n",
    "plt.show()\n"
   ]
  },
  {
   "cell_type": "markdown",
   "metadata": {},
   "source": [
    "### Correlation analysis "
   ]
  },
  {
   "cell_type": "code",
   "execution_count": null,
   "metadata": {},
   "outputs": [],
   "source": [
    "import pandas as pd\n",
    "import matplotlib.pyplot as plt\n",
    "\n",
    "\n",
    "correlations = {}\n",
    "\n",
    "\n",
    "for lag in range(1, 169):\n",
    "    df[f'system_price_lag_{lag}'] = df['System Price'].shift(periods=lag)\n",
    "    correlations[lag] = df['System Price'].corr(df[f'system_price_lag_{lag}'])\n",
    "\n",
    "\n",
    "correlations_df = pd.DataFrame(list(correlations.items()), columns=['Lag', 'Correlation'])\n",
    "\n",
    "\n",
    "correlations_df['Abs_Correlation'] = correlations_df['Correlation'].abs()\n",
    "sorted_correlations = correlations_df.sort_values(by='Abs_Correlation', ascending=False)\n",
    "\n",
    "\n",
    "print(\"Top 10 lags based on absolute correlation:\")\n",
    "print(sorted_correlations.head(20))\n",
    "\n",
    "\n",
    "sorted_correlations.head(50).plot(x='Lag', y='Abs_Correlation', kind='bar', figsize=(16, 8))\n",
    "plt.title('Top Lag Correlations with System Price')\n",
    "plt.xlabel('Lag (hours)')\n",
    "plt.ylabel('Absolute Correlation')\n",
    "plt.tight_layout()  #\n",
    "plt.show()\n",
    "\n",
    "\n",
    "df.drop(columns=[f'system_price_lag_{lag}' for lag in range(1, 169)], inplace=True)\n"
   ]
  },
  {
   "cell_type": "markdown",
   "metadata": {},
   "source": [
    "### Mutual information function "
   ]
  },
  {
   "cell_type": "code",
   "execution_count": null,
   "metadata": {},
   "outputs": [],
   "source": [
    "import pandas as pd\n",
    "import numpy as np\n",
    "from sklearn.metrics import mutual_info_score\n",
    "import matplotlib.pyplot as plt\n",
    "\n",
    "\n",
    "def calculate_mutual_information(series, max_lag):\n",
    "    mutual_info = []\n",
    "    for lag in range(1, max_lag + 1):\n",
    "        # Create lagged series\n",
    "        lagged_series = series.shift(lag)\n",
    "        # Remove the NaNs introduced by shifting\n",
    "        combined = pd.DataFrame({'original': series, 'lagged': lagged_series}).dropna()\n",
    "        # Calculate mutual information\n",
    "        mi = mutual_info_score(combined['original'], combined['lagged'])\n",
    "        mutual_info.append(mi)\n",
    "    return mutual_info\n",
    "\n",
    "max_lag = 40\n",
    "\n",
    "\n",
    "series = df['System Price'].dropna()  \n",
    "mi_values = calculate_mutual_information(series, max_lag)\n",
    "\n",
    "\n",
    "plt.plot(range(1, max_lag + 1), mi_values, marker='o')\n",
    "plt.title('Mutual Information of System Price Across Different Lags')\n",
    "plt.xlabel('Lag')\n",
    "plt.ylabel('Mutual Information')\n",
    "plt.grid(True)\n",
    "plt.show()\n",
    "\n",
    "for i in range(1, len(mi_values) - 1):\n",
    "    if mi_values[i] < mi_values[i-1] and mi_values[i] <= mi_values[i+1]:\n",
    "        print(f\"First local minimum occurs at lag {i}\")\n",
    "        optimal_lag = i\n",
    "        break\n",
    "\n",
    "\n"
   ]
  },
  {
   "cell_type": "markdown",
   "metadata": {},
   "source": [
    "### Suggested lags "
   ]
  },
  {
   "cell_type": "code",
   "execution_count": null,
   "metadata": {},
   "outputs": [],
   "source": [
    "lags_to_create = [1, 2, 3, 24, 48, 168]\n",
    "\n",
    "\n",
    "existing_lags = [col for col in df.columns if 'System Price Lag' in col]\n",
    "df.drop(columns=existing_lags, inplace=True, errors='ignore')  \n",
    "\n",
    "for lag in lags_to_create:\n",
    "    lag_column_name = f'System Price Lag {lag}'\n",
    "    df[lag_column_name] = df['System Price'].shift(lag)\n",
    "\n",
    "\n",
    "print(f\"Number of lagged columns added: {len(lags_to_create)}\")\n",
    "\n",
    "\n",
    "print(f\"Total number of columns in the DataFrame: {df.shape[1]}\")\n",
    "\n",
    "df.dropna(inplace=True)"
   ]
  },
  {
   "cell_type": "code",
   "execution_count": null,
   "metadata": {},
   "outputs": [],
   "source": [
    "df.to_excel('/Users/evenbakke/Documents/Master Thesis/MasterThesis-/Data 2.0/Final Data with 2024.xlsx')"
   ]
  }
 ],
 "metadata": {
  "kernelspec": {
   "display_name": "base",
   "language": "python",
   "name": "python3"
  },
  "language_info": {
   "codemirror_mode": {
    "name": "ipython",
    "version": 3
   },
   "file_extension": ".py",
   "mimetype": "text/x-python",
   "name": "python",
   "nbconvert_exporter": "python",
   "pygments_lexer": "ipython3",
   "version": "3.9.12"
  }
 },
 "nbformat": 4,
 "nbformat_minor": 2
}
